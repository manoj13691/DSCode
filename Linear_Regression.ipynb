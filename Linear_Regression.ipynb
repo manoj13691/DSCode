{
 "cells": [
  {
   "cell_type": "code",
   "execution_count": 229,
   "metadata": {},
   "outputs": [],
   "source": [
    "import numpy as np\n",
    "import matplotlib.pyplot as plt\n",
    "%matplotlib inline"
   ]
  },
  {
   "cell_type": "code",
   "execution_count": 230,
   "metadata": {},
   "outputs": [],
   "source": [
    "X = np.random.rand(100,1)\n",
    "Y = 3 + 2 * X + np.random.rand(100,1)\n",
    "#Y = 3 + 2 * X "
   ]
  },
  {
   "cell_type": "code",
   "execution_count": 231,
   "metadata": {},
   "outputs": [
    {
     "data": {
      "text/plain": [
       "((100, 1), (100, 1))"
      ]
     },
     "execution_count": 231,
     "metadata": {},
     "output_type": "execute_result"
    }
   ],
   "source": [
    "X. shape, Y.shape"
   ]
  },
  {
   "cell_type": "code",
   "execution_count": 232,
   "metadata": {},
   "outputs": [],
   "source": [
    "#plt.scatter(X, Y)"
   ]
  },
  {
   "cell_type": "code",
   "execution_count": 233,
   "metadata": {},
   "outputs": [],
   "source": [
    "#np.hstack((X, np.ones((100,1))))\n",
    "\n",
    "X_new = np.hstack((np.ones((X.shape[0],1)), X))"
   ]
  },
  {
   "cell_type": "code",
   "execution_count": 234,
   "metadata": {},
   "outputs": [
    {
     "data": {
      "text/plain": [
       "((100, 2), (100, 1))"
      ]
     },
     "execution_count": 234,
     "metadata": {},
     "output_type": "execute_result"
    }
   ],
   "source": [
    "X_new.shape, Y.shape"
   ]
  },
  {
   "cell_type": "code",
   "execution_count": 235,
   "metadata": {},
   "outputs": [],
   "source": [
    "first = X_new.T.dot(X_new)"
   ]
  },
  {
   "cell_type": "code",
   "execution_count": 236,
   "metadata": {},
   "outputs": [],
   "source": [
    "final_weights = np.linalg.inv(first).dot(X_new.T).dot(Y)"
   ]
  },
  {
   "cell_type": "code",
   "execution_count": 237,
   "metadata": {},
   "outputs": [
    {
     "data": {
      "text/plain": [
       "array([[3.52075205],\n",
       "       [1.99155899]])"
      ]
     },
     "execution_count": 237,
     "metadata": {},
     "output_type": "execute_result"
    }
   ],
   "source": [
    "final_weights"
   ]
  },
  {
   "cell_type": "code",
   "execution_count": 238,
   "metadata": {},
   "outputs": [],
   "source": [
    "def loss(theta, X, Y):\n",
    "    # X - (samples, features) \n",
    "    # theta - (features, 1)\n",
    "    # Y - (samples, 1)\n",
    "    \n",
    "    no_of_samples = len(Y)\n",
    "    \n",
    "    cur_loss =  np.sum(np.square(X.dot(theta) - Y)) / (2 * no_of_samples)\n",
    "    \n",
    "    return cur_loss\n",
    "    "
   ]
  },
  {
   "cell_type": "code",
   "execution_count": 239,
   "metadata": {},
   "outputs": [],
   "source": [
    "def gradientDescent(theta, X , Y, learning_rate=0.1, iterations=100):\n",
    "    \n",
    "    no_of_samples = len(Y)\n",
    "    \n",
    "    for i in range(iterations):\n",
    "    \n",
    "        predictions = X.dot(theta) \n",
    "\n",
    "        errors = predictions  - Y\n",
    "\n",
    "        partial_derivative =  1 / no_of_samples * X.T.dot(errors)\n",
    "\n",
    "        theta = theta - learning_rate * partial_derivative\n",
    "\n",
    "        cost = loss(theta, X, Y)\n",
    "        \n",
    "        print(cost)\n",
    "    \n",
    "    \n",
    "    \n",
    "    return theta"
   ]
  },
  {
   "cell_type": "code",
   "execution_count": 242,
   "metadata": {},
   "outputs": [],
   "source": [
    "theta = np.random.randn(2,1)"
   ]
  },
  {
   "cell_type": "code",
   "execution_count": 243,
   "metadata": {},
   "outputs": [
    {
     "data": {
      "text/plain": [
       "array([[ 0.15112267],\n",
       "       [-0.26283709]])"
      ]
     },
     "execution_count": 243,
     "metadata": {},
     "output_type": "execute_result"
    }
   ],
   "source": [
    "theta"
   ]
  },
  {
   "cell_type": "code",
   "execution_count": 244,
   "metadata": {},
   "outputs": [],
   "source": [
    "def batchGradientDescent(theta, X , Y, learning_rate=0.1, iterations=100, batch_size = 10):\n",
    "    \n",
    "    no_of_samples = len(Y)\n",
    "    \n",
    "    for i in range(iterations):\n",
    "        \n",
    "        for j in range(0, len(X), batch_size):\n",
    "            batch_x = X[j:j+batch_size]\n",
    "            batch_y = Y[j:j+batch_size]\n",
    "            \n",
    "            predictions = batch_x.dot(theta) \n",
    "\n",
    "            errors = predictions  - batch_y\n",
    "\n",
    "            partial_derivative =  1 / no_of_samples * batch_x.T.dot(errors)\n",
    "\n",
    "            theta = theta - learning_rate * partial_derivative\n",
    "\n",
    "            cost = loss(theta, batch_x, batch_y)\n",
    "\n",
    "            print(cost)\n",
    "    \n",
    "    \n",
    "    \n",
    "    return theta"
   ]
  },
  {
   "cell_type": "code",
   "execution_count": 246,
   "metadata": {},
   "outputs": [],
   "source": [
    "def LinearRegression(X, Y):\n",
    "    theta = np.random.rand(X.shape[1],1)\n",
    "    print(\"theta\", theta)\n",
    "    final_theta = batchGradientDescent(theta, X, Y)\n",
    "    print(\"final theta\", final_theta)"
   ]
  },
  {
   "cell_type": "code",
   "execution_count": 248,
   "metadata": {},
   "outputs": [],
   "source": [
    "# LinearRegression(X_new, Y)"
   ]
  },
  {
   "cell_type": "code",
   "execution_count": null,
   "metadata": {},
   "outputs": [],
   "source": []
  }
 ],
 "metadata": {
  "kernelspec": {
   "display_name": "Python 3",
   "language": "python",
   "name": "python3"
  },
  "language_info": {
   "codemirror_mode": {
    "name": "ipython",
    "version": 3
   },
   "file_extension": ".py",
   "mimetype": "text/x-python",
   "name": "python",
   "nbconvert_exporter": "python",
   "pygments_lexer": "ipython3",
   "version": "3.7.3"
  }
 },
 "nbformat": 4,
 "nbformat_minor": 2
}
